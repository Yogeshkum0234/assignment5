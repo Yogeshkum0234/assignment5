{
 "cells": [
  {
   "cell_type": "markdown",
   "id": "077ee047-d0b0-480d-8ed9-cc21d524799f",
   "metadata": {},
   "source": [
    "1. Who developed python programming language?"
   ]
  },
  {
   "cell_type": "markdown",
   "id": "16d1e2ac-81ef-4fec-a536-e10ed1ae22b7",
   "metadata": {},
   "source": [
    "Ans:- Guido van Rossum"
   ]
  },
  {
   "cell_type": "markdown",
   "id": "c7a44036-5b1d-4831-ac56-a89be275b77c",
   "metadata": {},
   "source": [
    "2. Which type of programming does python support?"
   ]
  },
  {
   "cell_type": "markdown",
   "id": "04e079cd-7564-4a6d-83eb-eeaf900390ba",
   "metadata": {},
   "source": [
    "Ans:- object-oriented programming and structured programming."
   ]
  },
  {
   "cell_type": "markdown",
   "id": "7a2aa658-0e26-404a-967a-637d62be4f53",
   "metadata": {},
   "source": [
    "3. In python case sensitive when dealing with identifiers?"
   ]
  },
  {
   "cell_type": "markdown",
   "id": "6c83b6e8-3e3a-436d-9ded-c3aca6f165ce",
   "metadata": {},
   "source": [
    "Ans:- Yes, Python is a case-sensitive language, so identifiers are case-sensitive. That is, it considers uppercase and lowercase characters differently. The property is useful while naming identifiers to make the code more readable and maintainable."
   ]
  },
  {
   "cell_type": "markdown",
   "id": "847331f4-2577-44f2-974c-67ddb11f529f",
   "metadata": {},
   "source": [
    "4. What is the correct extension of the python file?"
   ]
  },
  {
   "cell_type": "markdown",
   "id": "b128400a-db34-4f7e-bac5-b4969dc80830",
   "metadata": {},
   "source": [
    "Ans:- .py"
   ]
  },
  {
   "cell_type": "markdown",
   "id": "280408b9-132b-4e60-ac98-0af4e6e1d89f",
   "metadata": {},
   "source": [
    "5. Is python code compiled or interpreted?"
   ]
  },
  {
   "cell_type": "markdown",
   "id": "f947eb24-111b-44eb-a0bc-abd13fd107ee",
   "metadata": {},
   "source": [
    "Ans:- interpreted"
   ]
  },
  {
   "cell_type": "markdown",
   "id": "9c9c22c8-e8de-4693-99e0-8986133e2c36",
   "metadata": {},
   "source": [
    "6. Name a few blocks of code used to define in python language?\n"
   ]
  },
  {
   "cell_type": "markdown",
   "id": "fffaef89-6936-41c2-8aef-38bcf92584b8",
   "metadata": {},
   "source": [
    "Ans:- A Python program is constructed from code blocks. A block is a piece of Python program text that is executed as a unit. The following are blocks: a module, a function body, and a class definition."
   ]
  },
  {
   "cell_type": "markdown",
   "id": "df08b509-d5a5-4c49-8fb9-f83603ad4988",
   "metadata": {},
   "source": [
    "7. State a character to give single-line comments in python?"
   ]
  },
  {
   "cell_type": "markdown",
   "id": "b567b066-ae93-46ce-b8eb-8397d83f3a17",
   "metadata": {},
   "source": [
    "Ans:- hash symbol,#"
   ]
  },
  {
   "cell_type": "markdown",
   "id": "58f3f221-c74c-4685-a656-8b925ea8a6f3",
   "metadata": {},
   "source": [
    "8. Mention functions which can help us to find the version of python that we are currently working on?"
   ]
  },
  {
   "cell_type": "markdown",
   "id": "3060187e-bcb0-4267-a542-a000597980d7",
   "metadata": {},
   "source": [
    "Ans:- sys.version"
   ]
  },
  {
   "cell_type": "markdown",
   "id": "213c8141-6361-44d3-81c5-2b6ef5a9413c",
   "metadata": {},
   "source": [
    "9. Python supports the creation of anonymous function at runtime,using a construct called ___________"
   ]
  },
  {
   "cell_type": "markdown",
   "id": "889be1bf-ac81-49b9-895f-9a8ec439d3ec",
   "metadata": {},
   "source": [
    "Ans:- lambda "
   ]
  },
  {
   "cell_type": "markdown",
   "id": "e2c2119a-09f0-47ea-b3ab-970793568ab5",
   "metadata": {},
   "source": [
    "10. What does pip stands for python?"
   ]
  },
  {
   "cell_type": "markdown",
   "id": "0aa1e605-2b2d-492d-b702-cbf24540ea65",
   "metadata": {},
   "source": [
    "Ans:- preferred installer program"
   ]
  },
  {
   "cell_type": "markdown",
   "id": "3908bc66-1efa-48c4-b8a8-a0e8c380a077",
   "metadata": {},
   "source": [
    "11. Mention a few built in functions in python?"
   ]
  },
  {
   "cell_type": "markdown",
   "id": "07d6bc0d-1a76-40a2-a8cb-4f103387c54a",
   "metadata": {},
   "source": [
    "Ans:- print( ) function\n",
    "\n",
    "type( ) function. \n",
    "\n",
    "input( ) function.\n",
    "\n",
    "abs( ) function. \n",
    "\n",
    "pow( ) function.\n",
    "\n",
    "dir( ) function. \n",
    "\n",
    "sorted( ) function.\n",
    "\n",
    "max( ) function."
   ]
  },
  {
   "cell_type": "markdown",
   "id": "dfca0f6c-b91c-4af9-8403-68adcf6a3d2c",
   "metadata": {},
   "source": [
    "12. What is the maximum possible length of an identifier in python?"
   ]
  },
  {
   "cell_type": "markdown",
   "id": "f7ff3b69-d88a-4a73-adf4-a1308471a54a",
   "metadata": {},
   "source": [
    "Ans:- 79 characters "
   ]
  },
  {
   "cell_type": "markdown",
   "id": "e7b1ac61-44fa-4b3a-af3d-c47e20c8eb8e",
   "metadata": {},
   "source": [
    "13. What are the benefits of using python?"
   ]
  },
  {
   "cell_type": "markdown",
   "id": "15d27a00-6c06-4268-86c4-fdf622de34b2",
   "metadata": {},
   "source": [
    "Ans:- \n",
    "Presence of third-party modules.\n",
    "\n",
    "Extensive support libraries(NumPy for numerical calculations, Pandas for data analytics, etc.)\n",
    "\n",
    "Open source and large active community base.\n",
    "\n",
    "Versatile, Easy to read, learn and write.\n",
    "\n",
    "User-friendly data structures.\n",
    "\n",
    "High-level language."
   ]
  },
  {
   "cell_type": "markdown",
   "id": "86b56980-04c8-46d6-a721-643351f0dafc",
   "metadata": {},
   "source": [
    "14. How is memory managed in python?"
   ]
  },
  {
   "cell_type": "markdown",
   "id": "f0239c15-ac5d-45cd-bdf8-4021f6291513",
   "metadata": {},
   "source": [
    "Ans:- Memory management in Python involves a private heap containing all Python objects and data structures. The management of this private heap is ensured internally by the Python memory manager."
   ]
  },
  {
   "cell_type": "markdown",
   "id": "81a25831-6940-4fac-8b60-4c95c67b8cce",
   "metadata": {},
   "source": [
    "15. How to install python on windows and set path variables?"
   ]
  },
  {
   "cell_type": "markdown",
   "id": "8de9d10d-89e9-4a2a-979d-82fa4076e591",
   "metadata": {},
   "source": [
    "Ans:-\n",
    "\n",
    "1.Right-clicking This PC and going to Properties.\n",
    "\n",
    "2.Clicking on the Advanced system settings in the menu on the left.\n",
    "\n",
    "3.Clicking on the Environment Variables button o​n the bottom right.\n",
    "\n",
    "4.In the System variables section, selecting the Path variable and clicking on Edit. The next screen will show all the directories that are currently a part of the PATH variable.\n",
    "\n",
    "5.Clicking on New and entering Python’s install directory.\n",
    "\n"
   ]
  },
  {
   "cell_type": "markdown",
   "id": "e82795e6-c895-48dc-983a-fb0871f13692",
   "metadata": {},
   "source": [
    "16. Is indentation required in python?"
   ]
  },
  {
   "cell_type": "code",
   "execution_count": null,
   "id": "8d34ac5a-9b9c-4b45-9aa3-c641920b2484",
   "metadata": {},
   "outputs": [],
   "source": [
    "Ans:-v"
   ]
  }
 ],
 "metadata": {
  "kernelspec": {
   "display_name": "Python 3 (ipykernel)",
   "language": "python",
   "name": "python3"
  },
  "language_info": {
   "codemirror_mode": {
    "name": "ipython",
    "version": 3
   },
   "file_extension": ".py",
   "mimetype": "text/x-python",
   "name": "python",
   "nbconvert_exporter": "python",
   "pygments_lexer": "ipython3",
   "version": "3.10.8"
  }
 },
 "nbformat": 4,
 "nbformat_minor": 5
}
